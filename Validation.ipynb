{
 "cells": [
  {
   "cell_type": "markdown",
   "metadata": {},
   "source": [
    "[Open In Colab](https://colab.research.google.com/github/joelbenjohn/pyCUFSM/blob/master/Validation.ipynb)"
   ]
  },
  {
   "cell_type": "code",
   "execution_count": null,
   "metadata": {},
   "outputs": [],
   "source": [
    "!rm -rf /content/pyCUFSM\n",
    "!git clone https://github.com/joelbenjohn/pyCUFSM\n",
    "\n",
    "import sys\n",
    "sys.path.insert(1, '/content/pyCUFSM')"
   ]
  },
  {
   "cell_type": "code",
   "execution_count": null,
   "metadata": {},
   "outputs": [],
   "source": [
    "from google.colab import files\n",
    "import os\n",
    "def getLocalFiles():\n",
    "    _files = files.upload()\n",
    "    if len(_files) >0:\n",
    "       for k,v in _files.items():\n",
    "         open(k,'wb').write(v)\n",
    "#          os.rename(k, 'a.mat')\n",
    "files = getLocalFiles()"
   ]
  },
  {
   "cell_type": "code",
   "execution_count": null,
   "metadata": {},
   "outputs": [],
   "source": [
    "import numpy as np\n",
    "from scipy import io\n",
    "import pycufsm.fsm as fsm\n",
    "import pycufsm.cfsm as cfsm\n",
    "import pycufsm.helpers as helpers\n",
    "import pycufsm.plotters as plotters\n",
    "import pycufsm.preprocess as preprocess\n",
    "from cutwp_prop2 import cutwp_prop2\n",
    "for k, v in files.items():\n",
    "    file = io.loadmat(k)\n",
    "    cufsm_input = helpers.load_mat(file)\n",
    "    sect_props = cutwp_prop2(cufsm_input['nodes'][:, 1:3], cufsm_input['elements'][:, 1:4])\n",
    "    gbt_con = {\n",
    "        'glob': GBTcon['glob'],\n",
    "        'dist': GBTcon['dist'],\n",
    "        'local': GBTcon['local'],\n",
    "        'other': GBTcon['other'],\n",
    "        'o_space': 1,\n",
    "        'couple': 1,\n",
    "        'orth': 2,\n",
    "        'norm': 0,\n",
    "    }\n",
    "    signature, curve, basis = fsm.strip(props=cufsm_input['props'],\n",
    "                                 nodes=cufsm_input['nodes'],\n",
    "                                 elements=cufsm_input['elements'],\n",
    "                                 lengths=cufsm_input['lengths'],\n",
    "                                 springs=cufsm_input['springs'],\n",
    "                                 constraints=cufsm_input['constraints'],\n",
    "                                 gbt_con=gbt_con,\n",
    "                                 b_c='S-S',\n",
    "                                 m_all=np.ones((len(cufsm_input['lengths']), 1)),\n",
    "                                 n_eigs=10,\n",
    "                                 sect_props=sect_props)\n",
    "    plt.semilogx(cufsm_input['lengths'], np.array(signature), 'k', label = 'python')\n",
    "    plt.semilogx(cufsm_input['lengths'], np.array(curve)[:, 0], 'ko', label = 'matlab')\n",
    "    plt.xlim((1, np.max(cufsm_input['lengths'])))\n",
    "    ubound = np.min([np.max(signature), 3*np.median(signature)])\n",
    "    plt.ylim((0, ubound))\n",
    "    plt.xlabel('half-wavelength (in)')\n",
    "    plt.ylabel('Pcr/Py')\n",
    "    plt.show()\n",
    "    \n",
    "    \n",
    "    \n",
    "    "
   ]
  }
 ],
 "metadata": {
  "kernelspec": {
   "display_name": "Python 3",
   "language": "python",
   "name": "python3"
  },
  "language_info": {
   "codemirror_mode": {
    "name": "ipython",
    "version": 3
   },
   "file_extension": ".py",
   "mimetype": "text/x-python",
   "name": "python",
   "nbconvert_exporter": "python",
   "pygments_lexer": "ipython3",
   "version": "3.7.4"
  }
 },
 "nbformat": 4,
 "nbformat_minor": 2
}
