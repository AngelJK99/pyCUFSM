{
 "cells": [
  {
   "cell_type": "code",
   "execution_count": 23,
   "metadata": {},
   "outputs": [
    {
     "data": {
      "application/vnd.jupyter.widget-view+json": {
       "model_id": "73c3bddb12094a6faad94fd8d5adc5f8",
       "version_major": 2,
       "version_minor": 0
      },
      "text/plain": [
       "VBox(children=(VBox(children=(VBox(children=(GridBox(children=(Label(value='mat#'), Label(value='Ex'), Label(v…"
      ]
     },
     "metadata": {},
     "output_type": "display_data"
    }
   ],
   "source": [
    "import ipywidgets as widgets\n",
    "import numpy as np\n",
    "props = np.array([[0, 29500, 29500, 0.3, 0.3, 29500 / (2 * (1 + 0.3))]])\n",
    "nodes =np.array([[0, 2.5, 0.773, 1, 1, 1, 1, 0], [1, 2.5, 0, 1, 1, 1, 1, 0],\n",
    "             [2, 1.25, 0, 1, 1, 1, 1, 0], [3, 0, 0, 1, 1, 1, 1, 0],\n",
    "             [4, 0, 3, 1, 1, 1, 1, 0], [5, 0, 6, 1, 1, 1, 1, 0],\n",
    "             [6, 0, 9, 1, 1, 1, 1, 0], [7, 1.25, 9, 1, 1, 1, 1, 0],\n",
    "             [8, 2.5, 9, 1, 1, 1, 1, 0], [9, 2.5, 8.227, 1, 1, 1, 1, 0]])\n",
    "elements = np.array([[0, 0, 1, 0.059, 0], [1, 1, 2, 0.059, 0], [2, 2, 3, 0.059, 0],\n",
    "                [3, 3, 4, 0.059, 0], [4, 4, 5, 0.059, 0], [5, 5, 6, 0.059, 0],\n",
    "                [6, 6, 7, 0.059, 0], [7, 7, 8, 0.059, 0], [8, 8, 9, 0.059, 0]])\n",
    "mattext = ['mat#', 'Ex', 'Ey', 'vx', 'vy', 'G']\n",
    "nodetext = ['Node#','x','y','xdof', 'zdof', 'ydof','qdof', 'stress']\n",
    "elemtext = ['Element#', 'Nodei', 'Nodej', 't', 'Mat#']\n",
    "ADDNODE = widgets.Button(description=\"Add Node\")\n",
    "ADDELEM = widgets.Button(description=\"Add Element\")\n",
    "ADDMAT = widgets.Button(description=\"Add Material\")\n",
    "prop = [[] for i in range(1)]\n",
    "node = [[] for i in range(10)]\n",
    "elem = [[] for i in range(9)]\n",
    "mitems = [[] for i in range(1)]\n",
    "nitems = [[] for i in range(10)]\n",
    "eitems = [[] for i in range(9)]\n",
    "matlabel = widgets.GridBox([widgets.Label(value=mattext[j]) for j in range(6)], layout=widgets.Layout(grid_template_columns=\"repeat(6, 50px[col-start])\"))\n",
    "for i in range(1):\n",
    "    mitems[i]= [widgets.FloatText(value=props[i,j]) for j in range(6)]\n",
    "    prop[i] = widgets.GridBox(mitems[i], layout=widgets.Layout(grid_template_columns=\"repeat(6, 50px[col-start])\"))\n",
    "matr0 = widgets.VBox([prop[j] for j in range(1)])\n",
    "matr = widgets.VBox([matlabel, matr0])\n",
    "nlabel= widgets.GridBox([widgets.Label(value=nodetext[j]) for j in range(8)], layout=widgets.Layout(grid_template_columns=\"repeat(8, 50px[col-start])\"))\n",
    "for i in range(10):\n",
    "    nitems[i]= [widgets.FloatText(value=nodes[i, j]) for j in range(8)]\n",
    "    node[i] = widgets.GridBox(nitems[i], layout=widgets.Layout(grid_template_columns=\"repeat(8, 50px[col-start])\"), width = '70%')\n",
    "noder0 = widgets.VBox([node[j] for j in range(10)])\n",
    "noder = widgets.VBox([nlabel, noder0])\n",
    "elabel = widgets.GridBox([widgets.Label(value=elemtext[j]) for j in range(5)], layout=widgets.Layout(grid_template_columns=\"repeat(5, 50px[col-start])\"))\n",
    "for i in range(9):\n",
    "    eitems[i]= [widgets.FloatText(value=elements[i, j]) for j in range(5)]\n",
    "    elem[i] = widgets.GridBox(eitems[i], layout=widgets.Layout(grid_template_columns=\"repeat(5, 50px[col-start])\"), width = '30%')\n",
    "elemr0 = widgets.VBox([elem[j] for j in range(9)])\n",
    "elemr = widgets.VBox([elabel, elemr0])\n",
    "# node = widgets.GridBox(noder, layout=widgets.Layout(grid_template_columns=\"repeat(6, 50px[col-start])\"))\n",
    "row0 = widgets.VBox([matr, ADDMAT])\n",
    "row1 = widgets.VBox([noder, ADDNODE])\n",
    "row2 = widgets.VBox([elemr, ADDELEM])\n",
    "row = widgets.HBox([row1, row2])\n",
    "page = widgets.VBox([row0, row])\n",
    "display(page)\n"
   ]
  },
  {
   "cell_type": "code",
   "execution_count": 40,
   "metadata": {
    "scrolled": true
   },
   "outputs": [
    {
     "name": "stdout",
     "output_type": "stream",
     "text": [
      "[Text(value='3'), Text(value='x'), Text(value='y'), Text(value='xdof'), Text(value='ydof'), Text(value='qdof')]\n"
     ]
    }
   ],
   "source": [
    "print(items)"
   ]
  },
  {
   "cell_type": "code",
   "execution_count": 47,
   "metadata": {
    "scrolled": true
   },
   "outputs": [
    {
     "data": {
      "application/vnd.jupyter.widget-view+json": {
       "model_id": "5629d12e182f456db2f4b57fd58ddb26",
       "version_major": 2,
       "version_minor": 0
      },
      "text/plain": [
       "HBox(children=(VBox(children=(FloatText(value=0.0, description='a'), IntSlider(value=0, description='b'), IntS…"
      ]
     },
     "metadata": {},
     "output_type": "display_data"
    }
   ],
   "source": [
    "a = widgets.FloatText(description='a')\n",
    "b = widgets.IntSlider(description='b')\n",
    "c = widgets.IntSlider(description='c')\n",
    "def f(a, b, c):\n",
    "    print('{}*{}*{}={}'.format(a, b, c, a*b*c))\n",
    "\n",
    "out = widgets.interactive_output(f, {'a': a, 'b': b, 'c': c})\n",
    "\n",
    "widgets.HBox([widgets.VBox([a, b, c]), out])"
   ]
  },
  {
   "cell_type": "code",
   "execution_count": 16,
   "metadata": {},
   "outputs": [
    {
     "data": {
      "application/vnd.jupyter.widget-view+json": {
       "model_id": "ade3336f9eca4621b0ef737a2da5f494",
       "version_major": 2,
       "version_minor": 0
      },
      "text/plain": [
       "Label(value='The values of slider1 and slider2 are synchronized')"
      ]
     },
     "metadata": {},
     "output_type": "display_data"
    },
    {
     "data": {
      "application/vnd.jupyter.widget-view+json": {
       "model_id": "c519884b46bb43d8a2b27bdbdd949ff4",
       "version_major": 2,
       "version_minor": 0
      },
      "text/plain": [
       "IntSlider(value=0, description='Slider 1')"
      ]
     },
     "metadata": {},
     "output_type": "display_data"
    },
    {
     "data": {
      "application/vnd.jupyter.widget-view+json": {
       "model_id": "7786a651ee2e45bb83ee9ea963de64c7",
       "version_major": 2,
       "version_minor": 0
      },
      "text/plain": [
       "IntSlider(value=0, description='Slider 2')"
      ]
     },
     "metadata": {},
     "output_type": "display_data"
    }
   ],
   "source": [
    "\n",
    "caption = widgets.Label(value='The values of slider1 and slider2 are synchronized')\n",
    "sliders1, slider2 = widgets.IntSlider(description='Slider 1'),\\\n",
    "                    widgets.IntSlider(description='Slider 2')\n",
    "l = widgets.link((sliders1, 'value'), (slider2, 'value'))\n",
    "display(caption, sliders1, slider2)"
   ]
  },
  {
   "cell_type": "code",
   "execution_count": 50,
   "metadata": {},
   "outputs": [
    {
     "data": {
      "application/vnd.jupyter.widget-view+json": {
       "model_id": "2f760895dd464490bb320e3a3b89a74e",
       "version_major": 2,
       "version_minor": 0
      },
      "text/plain": [
       "Button(description='Click Me!', style=ButtonStyle())"
      ]
     },
     "metadata": {},
     "output_type": "display_data"
    },
    {
     "data": {
      "application/vnd.jupyter.widget-view+json": {
       "model_id": "f2f5e3ee28574abba14214a5d5bb1862",
       "version_major": 2,
       "version_minor": 0
      },
      "text/plain": [
       "Output()"
      ]
     },
     "metadata": {},
     "output_type": "display_data"
    }
   ],
   "source": [
    "from IPython.display import display\n",
    "button = widgets.Button(description=\"Click Me!\")\n",
    "output = widgets.Output()\n",
    "\n",
    "display(button, output)\n",
    "\n",
    "def on_button_clicked(b):\n",
    "    with output:\n",
    "        print(\"Button clicked.\")\n",
    "\n",
    "button.on_click(on_button_clicked)"
   ]
  },
  {
   "cell_type": "code",
   "execution_count": 24,
   "metadata": {},
   "outputs": [
    {
     "data": {
      "application/vnd.jupyter.widget-view+json": {
       "model_id": "20318080bf8b4ed28b9a3701901e19e9",
       "version_major": 2,
       "version_minor": 0
      },
      "text/plain": [
       "Label(value='The values of range1 and range2 are synchronized')"
      ]
     },
     "metadata": {},
     "output_type": "display_data"
    },
    {
     "data": {
      "application/vnd.jupyter.widget-view+json": {
       "model_id": "1b6b1529ac6b46b0a7d47fc08a46619e",
       "version_major": 2,
       "version_minor": 0
      },
      "text/plain": [
       "IntSlider(value=1, description='Slider', max=5, min=-5)"
      ]
     },
     "metadata": {},
     "output_type": "display_data"
    }
   ],
   "source": [
    "caption = widgets.Label(value='The values of range1 and range2 are synchronized')\n",
    "slider = widgets.IntSlider(min=-5, max=5, value=1, description='Slider')\n",
    "\n",
    "def handle_slider_change(change):\n",
    "    caption.value = 'The slider value is ' + (\n",
    "        'negative' if change.new < 0 else 'nonnegative'\n",
    "    )\n",
    "\n",
    "slider.observe(handle_slider_change, names='value')\n",
    "\n",
    "display(caption, slider)"
   ]
  }
 ],
 "metadata": {
  "kernelspec": {
   "display_name": "Python 3",
   "language": "python",
   "name": "python3"
  },
  "language_info": {
   "codemirror_mode": {
    "name": "ipython",
    "version": 3
   },
   "file_extension": ".py",
   "mimetype": "text/x-python",
   "name": "python",
   "nbconvert_exporter": "python",
   "pygments_lexer": "ipython3",
   "version": "3.7.4"
  }
 },
 "nbformat": 4,
 "nbformat_minor": 2
}
