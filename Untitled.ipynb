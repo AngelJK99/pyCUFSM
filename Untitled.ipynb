{
 "cells": [
  {
   "cell_type": "markdown",
   "metadata": {},
   "source": [
    "[![Open In Colab](https://colab.research.google.com/assets/colab-badge.svg)](https://colab.research.google.com/github/joelbenjohn/pyCUFSM/blob/master/Untitled.ipynb)\n"
   ]
  },
  {
   "cell_type": "code",
   "execution_count": 13,
   "metadata": {},
   "outputs": [
    {
     "name": "stderr",
     "output_type": "stream",
     "text": [
      "'rm' is not recognized as an internal or external command,\n",
      "operable program or batch file.\n",
      "fatal: destination path 'pyCUFSM' already exists and is not an empty directory.\n"
     ]
    }
   ],
   "source": [
    "!rm -rf /content/pyCUFSM\n",
    "!git clone https://github.com/joelbenjohn/pyCUFSM\n",
    "\n",
    "import sys\n",
    "sys.path.insert(1, '/content/pyCUFSM')"
   ]
  },
  {
   "cell_type": "code",
   "execution_count": 14,
   "metadata": {},
   "outputs": [
    {
     "data": {
      "image/png": "[encoded data removed]",
      "text/plain": [
       "<Figure size 432x288 with 1 Axes>"
      ]
     },
     "metadata": {
      "needs_background": "light"
     },
     "output_type": "display_data"
    }
   ],
   "source": [
    "# This example presents a very simple Zed section,\n",
    "# solved for pure bending about the X-axis,\n",
    "# in the Metric unit system\n",
    "import numpy as np\n",
    "import matplotlib.pyplot as plt\n",
    "from pycufsm.fsm import strip\n",
    "from pycufsm.preprocess import stress_gen\n",
    "import dispshap\n",
    "import crossect\n",
    "import thecurve3\n",
    "import example4\n",
    "\n",
    "\n",
    "\n",
    "# Define an isotropic material with E = 203,000 MPa and nu = 0.3\n",
    "props = [[0, 29500.00, 29500.00, 0.30, 0.30, 11346.15]]\n",
    "# Define a lightly-meshed C shape\n",
    "# Nodal location units are inches\n",
    "nodes = np.array([[0, 100, 25, 1, 1, 1, 1, 1], \n",
    "                  [1, 100, 0, 1, 1, 1, 1, 1],\n",
    "                  [2, 50, 0, 1, 1, 1, 1, 1],\n",
    "                  [3, 0, 0, 1, 1, 1, 1, 1],\n",
    "                  [4, 0, 100, 1, 1, 1, 1, 1],\n",
    "                  [5, 0, 200, 1, 1, 1, 1, 1],\n",
    "                  [6, 0, 300, 1, 1, 1, 1, 1],\n",
    "                  [7, -50, 300, 1, 1, 1, 1, 1],\n",
    "                  [8, -100, 300, 1, 1, 1, 1, 1],\n",
    "                  [9, -100, 275, 1, 1, 1, 1, 1]])\n",
    "elements = np.array([[0, 0, 1, 2, 0],\n",
    "                     [1, 1, 2, 2, 0],\n",
    "                     [2, 2, 3, 2, 0],\n",
    "                     [3, 3, 4, 2, 0],\n",
    "                     [4, 4, 5, 10, 0],\n",
    "                     [5, 5, 6, 2, 0],\n",
    "                     [6, 6, 7, 20, 0],\n",
    "                     [7, 7, 8, 2, 0],\n",
    "                     [8, 8, 9, 2, 0]])\n",
    "# These lengths will generally provide sufficient accuracy for\n",
    "# local, distortional, and global buckling modes\n",
    "# Length units are millimetres\n",
    "lengths = [\n",
    "    10, 20, 30, 40, 50, 60, 70, 80, 90, 100, 110, 120, 130, 140, 150, 160,\n",
    "    170, 180, 190, 200, 250, 300, 350, 400, 450, 500, 600, 700, 800, 900,\n",
    "    1000, 1100, 1200, 1300, 1400, 1500, 2000, 2500, 3000, 3500, 4000, 4500,\n",
    "    5000, 6000, 7000, 8000, 9000, 10000\n",
    "]\n",
    "###Start at a, End at b, n equal spaced intervals\n",
    "#length=np.linspace(a,b,n)\n",
    "###Start\n",
    "#lengths = np.logspace(a,b,n)\n",
    "\n",
    "# No special springs or constraints\n",
    "springs = []\n",
    "constraints = []\n",
    "\n",
    "# Values here correspond to signature curve basis and orthogonal based upon geometry\n",
    "gbt_con = {\n",
    "    'glob': [0],\n",
    "    'dist': [0],\n",
    "    'local': [0],\n",
    "    'other': [0],\n",
    "    'o_space': 1,\n",
    "    'couple': 1,\n",
    "    'orth': 2,\n",
    "    'norm': 0,\n",
    "}\n",
    "# Simply-supported boundary conditions\n",
    "b_c = 'S-S'\n",
    "\n",
    "# For signature curve analysis, only a single array of ones makes sense here\n",
    "m_all = np.ones((len(lengths), 1))\n",
    "\n",
    "# Solve for 10 eigenvalues\n",
    "n_eigs = 10\n",
    "\n",
    "# Set the section properties for this simple section\n",
    "# Normally, these might be calculated by an external package\n",
    "sect_props = {\n",
    "    'cx': 0,\n",
    "    'cy': 150,\n",
    "    'x0': 0,\n",
    "    'y0': 150,\n",
    "    'phi': 16.54,\n",
    "    'A': 1084,\n",
    "    'Ixx': 14921145,\n",
    "    'Ixy': -4151084,\n",
    "    'Iyy': 2177529,\n",
    "    'I11': 16154036,\n",
    "    'I22': 944639\n",
    "}\n",
    "# Generate the stress points assuming 500 MPa yield and X-axis bending\n",
    "nodes_p = stress_gen(nodes=nodes,\n",
    "                     forces={\n",
    "                         'P': 0,\n",
    "                         'Mxx': 500 * sect_props['Ixx'] / sect_props['cy'],\n",
    "                         'Myy': 0,\n",
    "                         'M11': 0,\n",
    "                         'M22': 0\n",
    "                     },\n",
    "                     sect_props=sect_props)\n",
    "\n",
    "#####CALL CROSS SECTION\n",
    "#Flag = {node, elem, mat, stress, stresspic, coord, constraints, springs, origin, propaxis}\n",
    "flag = np.array([1, 0, 0, 1, 1, 0, 0, 0, 0, 0])\n",
    "crossect.crossect(nodes_p, elements, springs, constraints,flag)\n",
    "plt.show()"
   ]
  },
  {
   "cell_type": "code",
   "execution_count": 15,
   "metadata": {},
   "outputs": [],
   "source": [
    "# Perform the Finite Strip Method analysis\n",
    "signature, curve, shapes = strip(props=props,\n",
    "                                 nodes=nodes_p,\n",
    "                                 elements=elements,\n",
    "                                 lengths=lengths,\n",
    "                                 springs=springs,\n",
    "                                 constraints=constraints,\n",
    "                                 gbt_con=gbt_con,\n",
    "                                 b_c=b_c,\n",
    "                                 m_all=m_all,\n",
    "                                 n_eigs=n_eigs,\n",
    "                                 sect_props=sect_props)\n",
    "# Return the important example results\n",
    "# The signature curve is simply a matter of plotting the\n",
    "# 'signature' values against the lengths\n",
    "# (usually on a logarithmic axis)\n",
    "# return {\n",
    "#     'X_values': lengths,\n",
    "#     'Y_values': signature,\n",
    "#     'Y_values_allmodes': curve,\n",
    "#     'Orig_coords': nodes,\n",
    "#     'Deformations': shapes,\n",
    "#     'Elements': elements \n",
    "# }\n",
    "lengths = np.array(lengths)\n",
    "signature = np.array(signature)\n",
    "curves = np.array(curve)\n",
    "node=np.array(nodes)\n",
    "shapes = np.array(shapes)\n",
    "element = np.array(elements)"
   ]
  },
  {
   "cell_type": "code",
   "execution_count": 16,
   "metadata": {},
   "outputs": [
    {
     "data": {
      "image/png": "[encoded data removed]",
      "text/plain": [
       "<Figure size 432x288 with 1 Axes>"
      ]
     },
     "metadata": {
      "needs_background": "light"
     },
     "output_type": "display_data"
    }
   ],
   "source": [
    "######POST PROCESSING#########\n",
    "#Choose mode number\n",
    "modeindex = 1\n",
    "length_index = 20\n",
    "fileddisplay = [1]\n",
    "######DISPLACED SHAPE####\n",
    "undef = 1\n",
    "scalem = 1\n",
    "m_a = [1]\n",
    "SurfPos = 1/2\n",
    "mode = shapes[length_index, :, modeindex]\n",
    "####CALL DISPLACED SHAPE\n",
    "x = dispshap.dispshap(undef, node, element, mode, scalem, springs, m_a, b_c ,SurfPos)"
   ]
  },
  {
   "cell_type": "code",
   "execution_count": 17,
   "metadata": {},
   "outputs": [
    {
     "data": {
      "image/png": "[encoded data removed]",
      "text/plain": [
       "<Figure size 432x288 with 1 Axes>"
      ]
     },
     "metadata": {
      "needs_background": "light"
     },
     "output_type": "display_data"
    }
   ],
   "source": [
    "####SIGNATURE CURVE####\n",
    "###Buckling halfwavelenth plot from a signature analysis\n",
    "# plt.semilogx(lengths, signature)\n",
    "# plt.show()\n",
    "clas = 0\n",
    "minopt = 1\n",
    "logopt = 1\n",
    "clasopt = 0\n",
    "xmin = np.min(lengths)*10/11\n",
    "xmax = np.max(lengths)*11/10\n",
    "ymin = 0\n",
    "curve_sign = np.zeros((len(lengths),2))\n",
    "curve = np.zeros(((len(lengths),n_eigs,2)))\n",
    "for j in range(len(lengths)):\n",
    "    for i in range(n_eigs):\n",
    "        curve[j, i, 0] = lengths[j]\n",
    "        curve[j, i, 1] = curves[j, i]\n",
    "for j in range(len(lengths)):\n",
    "    curve_sign[j, 0] = lengths[j]\n",
    "    curve_sign[j, 1] = curves[j, modeindex-1]\n",
    "ymax = np.min([np.max(curve_sign[:, 1]), 3*np.median(curve_sign[:, 1])])\n",
    "modedisplay = [1]\n",
    "fileindex = 1\n",
    "picpoint = [lengths[length_index-1], curve[length_index-1, modeindex-1]]\n",
    "#CALL THE CURVE\n",
    "thecurve3.thecurve3(curve, clas, fileddisplay, minopt, logopt, clasopt, xmin, xmax,\n",
    "ymin, ymax, modedisplay, fileindex, modeindex, picpoint)\n",
    "plt.show()"
   ]
  },
  {
   "cell_type": "code",
   "execution_count": null,
   "metadata": {},
   "outputs": [],
   "source": []
  }
 ],
 "metadata": {
  "celltoolbar": "Raw Cell Format",
  "kernelspec": {
   "display_name": "Python 3",
   "language": "python",
   "name": "python3"
  },
  "language_info": {
   "codemirror_mode": {
    "name": "ipython",
    "version": 3
   },
   "file_extension": ".py",
   "mimetype": "text/x-python",
   "name": "python",
   "nbconvert_exporter": "python",
   "pygments_lexer": "ipython3",
   "version": "3.7.4"
  }
 },
 "nbformat": 4,
 "nbformat_minor": 2
}
