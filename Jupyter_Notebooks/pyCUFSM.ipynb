{
 "cells": [
  {
   "cell_type": "markdown",
   "metadata": {},
   "source": [
    "[Open In Colab](https://colab.research.google.com/github/joelbenjohn/pyCUFSM/blob/master/Jupyter_Notebooks/pyCUFSM.ipynb)"
   ]
  },
  {
   "cell_type": "markdown",
   "metadata": {},
   "source": [
    "# Clone Github\n",
    "No need to run this cell for local host"
   ]
  },
  {
   "cell_type": "code",
   "execution_count": null,
   "metadata": {},
   "outputs": [],
   "source": [
    "!rm -rf /content/pyCUFSM\n",
    "!git clone https://github.com/ClearCals/pyCUFSM\n",
    "\n",
    "import sys\n",
    "sys.path.insert(1, '/content/pyCUFSM')"
   ]
  },
  {
   "cell_type": "markdown",
   "metadata": {},
   "source": [
    "# Pre Processing"
   ]
  },
  {
   "cell_type": "code",
   "execution_count": 2,
   "metadata": {
    "tags": []
   },
   "outputs": [
    {
     "name": "stdout",
     "output_type": "stream",
     "text": [
      "0.0\n"
     ]
    },
    {
     "data": {
      "image/png": "[encoded data removed]",
      "text/plain": [
       "<Figure size 432x432 with 1 Axes>"
      ]
     },
     "metadata": {
      "needs_background": "light"
     },
     "output_type": "display_data"
    }
   ],
   "source": [
    "# This example presents a very simple Zed section,\n",
    "# solved for pure bending about the X-axis,\n",
    "# in the Metric unit system\n",
    "import numpy as np\n",
    "import matplotlib.pyplot as plt\n",
    "from pycufsm.fsm import strip\n",
    "from pycufsm.preprocess import stress_gen\n",
    "from pycufsm.preprocess import yieldMP\n",
    "from pycufsm.preprocess import doubler\n",
    "import dispshap\n",
    "import crossect\n",
    "import thecurve3\n",
    "import cutwp_prop2\n",
    "\n",
    "# Define an isotropic material\n",
    "props = [[0, 29500, 29500, 0.3, 0.3, 29500 / (2 * (1 + 0.3))]]\n",
    "\n",
    "# Nodal location units are inches\n",
    "nodes = np.array([[0, 2.5, 0.773, 1, 1, 1, 1, 0], [1, 2.5, 0, 1, 1, 1, 1, 0],\n",
    "             [2, 1.25, 0, 1, 1, 1, 1, 0], [3, 0, 0, 1, 1, 1, 1, 0],\n",
    "             [4, 0, 3, 1, 1, 1, 1, 0], [5, 0, 6, 1, 1, 1, 1, 0],\n",
    "             [6, 0, 9, 1, 1, 1, 1, 0], [7, 1.25, 9, 1, 1, 1, 1, 0],\n",
    "             [8, 2.5, 9, 1, 1, 1, 1, 0], [9, 2.5, 8.227, 1, 1, 1, 1, 0]])\n",
    "\n",
    "elements = np.array([[0, 0, 1, 0.059, 0], [1, 1, 2, 0.059, 0], [2, 2, 3, 0.059, 0],\n",
    "                [3, 3, 4, 0.059, 0], [4, 4, 5, 0.059, 0], [5, 5, 6, 0.059, 0],\n",
    "                [6, 6, 7, 0.059, 0], [7, 7, 8, 0.059, 0], [8, 8, 9, 0.059, 0]])\n",
    "#PreProcess feature\n",
    "#Doubler\n",
    "nodes, elements = doubler(nodes, elements)\n",
    "# These lengths will generally provide sufficient accuracy for local, distortional, and global buckling modes\n",
    "# lengths = [\n",
    "#     10, 20, 30, 40, 50, 60, 70, 80, 90, 100, 110, 120, 130, 140, 150, 160,\n",
    "#     170, 180, 190, 200, 250, 300, 350, 400, 450, 500, 600, 700, 800, 900,\n",
    "#     1000, 1100, 1200, 1300, 1400, 1500, 2000, 2500, 3000, 3500, 4000, 4500,\n",
    "#     5000, 6000, 7000, 8000, 9000, 10000\n",
    "# ]\n",
    "\n",
    "###Start at a, End at b, n equal spaced intervals\n",
    "#length=np.linspace(a,b,n)\n",
    "\n",
    "###Start at 10^0, End at 10^4, with 100 log spaced intervals\n",
    "lengths = np.logspace(0,4,100)\n",
    "\n",
    "# No special springs or constraints\n",
    "springs = []\n",
    "constraints = []\n",
    "\n",
    "# Values here correspond to signature curve basis and orthogonal based upon geometry\n",
    "gbt_con = {\n",
    "    'glob': [0],\n",
    "    'dist': [0],\n",
    "    'local': [0],\n",
    "    'other': [0],\n",
    "    'o_space': 1,\n",
    "    'couple': 1,\n",
    "    'orth': 2,\n",
    "    'norm': 0,\n",
    "}\n",
    "# Simply-supported boundary conditions\n",
    "b_c = 'S-S'\n",
    "\n",
    "# For signature curve analysis, only a single array of ones makes sense here\n",
    "m_all = np.ones((len(lengths), 1))\n",
    "\n",
    "# Solve for 10 eigenvalues\n",
    "n_eigs = 10\n",
    "\n",
    "# Calculate Section Properties\n",
    "A, xc, yc, Ix, Iy, Ixy, theta, I1, I2, J, xs, ys, Cw, B1, B2, wn = cutwp_prop2.cutwp_prop2(nodes[:, 1:3], elements[:, 1:4])\n",
    "\n",
    "# Set the section properties for this simple section\n",
    "# Normally, these might be calculated by an external package\n",
    "sect_props = {\n",
    "        'cx': xc,\n",
    "        'cy': yc,\n",
    "        'x0': xs,\n",
    "        'y0': ys,\n",
    "        'phi': theta,\n",
    "        'A': A,\n",
    "        'Ixx': Ix,\n",
    "        'Ixy': Ixy,\n",
    "        'Iyy': Iy,\n",
    "        'I11': I1,\n",
    "        'I22': I2\n",
    "}\n",
    "# Yield Strength\n",
    "fy = 50\n",
    "unsymmetric = 1 #i.e. do a restrained bending calculation\n",
    "# Generate the stress points assuming 500 MPa yield and X-axis bending\n",
    "Fyield = yieldMP(nodes, fy, sect_props, unsymmetric)\n",
    "nodes_p = stress_gen(nodes=nodes,\n",
    "                     forces={\n",
    "                         'P': Fyield['P']*0,\n",
    "                         'Mxx': Fyield['Mxx']*1,\n",
    "                         'Myy': Fyield['Myy']*0,\n",
    "                         'M11': Fyield['M11']*0,\n",
    "                         'M22': Fyield['M22']*0\n",
    "                     },\n",
    "                     sect_props=sect_props,\n",
    "                     unsymm = unsymmetric,\n",
    "                    fy =fy\n",
    "                    )\n",
    "\n",
    "#####CALL CROSS SECTION\n",
    "#Flag = {node, elem, mat, stress, stresspic, coord, constraints, springs, origin, propaxis}\n",
    "flag = np.array([1, 0, 0, 0, 1, 0, 0, 0, 0, 0])\n",
    "crossect.crossect(nodes_p, elements, springs, constraints,flag)\n",
    "plt.show()"
   ]
  },
  {
   "cell_type": "markdown",
   "metadata": {},
   "source": [
    "# Analysis"
   ]
  },
  {
   "cell_type": "code",
   "execution_count": 8,
   "metadata": {},
   "outputs": [],
   "source": [
    "# Perform the Finite Strip Method analysis\n",
    "signature, curve, shapes = strip(props=props,\n",
    "                                 nodes=nodes_p,\n",
    "                                 elements=elements,\n",
    "                                 lengths=lengths,\n",
    "                                 springs=springs,\n",
    "                                 constraints=constraints,\n",
    "                                 gbt_con=gbt_con,\n",
    "                                 b_c=b_c,\n",
    "                                 m_all=m_all,\n",
    "                                 n_eigs=n_eigs,\n",
    "                                 sect_props=sect_props)\n",
    "# Return the important example results\n",
    "# The signature curve is simply a matter of plotting the\n",
    "# 'signature' values against the lengths\n",
    "# (usually on a logarithmic axis)\n",
    "# return {\n",
    "#     'X_values': lengths,\n",
    "#     'Y_values': signature,\n",
    "#     'Y_values_allmodes': curve,\n",
    "#     'Orig_coords': nodes,\n",
    "#     'Deformations': shapes,\n",
    "#     'Elements': elements \n",
    "# }\n",
    "lengths = np.array(lengths)\n",
    "signature = np.array(signature)\n",
    "curves = np.array(curve)\n",
    "node=np.array(nodes)\n",
    "shapes = np.array(shapes)\n",
    "element = np.array(elements)"
   ]
  },
  {
   "cell_type": "markdown",
   "metadata": {},
   "source": [
    "# Post Processing\n",
    "\n",
    "## Displaced Shape"
   ]
  },
  {
   "cell_type": "code",
   "execution_count": 9,
   "metadata": {},
   "outputs": [
    {
     "data": {
      "image/png": "[encoded data removed]",
      "text/plain": [
       "<Figure size 432x288 with 1 Axes>"
      ]
     },
     "metadata": {
      "needs_background": "light"
     },
     "output_type": "display_data"
    }
   ],
   "source": [
    "######POST PROCESSING#########\n",
    "#Choose mode number\n",
    "modeindex = 1\n",
    "length_index = 20\n",
    "fileddisplay = [1]\n",
    "######DISPLACED SHAPE####\n",
    "undef = 1\n",
    "scalem = 5\n",
    "m_a = [1]\n",
    "SurfPos = 1/2\n",
    "mode = shapes[length_index-1, :, modeindex-1]\n",
    "####CALL DISPLACED SHAPE\n",
    "x = dispshap.dispshap(undef, node, element, mode, scalem, springs, m_a, b_c ,SurfPos)"
   ]
  },
  {
   "cell_type": "markdown",
   "metadata": {},
   "source": [
    "## Signature Curve"
   ]
  },
  {
   "cell_type": "code",
   "execution_count": 10,
   "metadata": {},
   "outputs": [
    {
     "data": {
      "image/png": "[encoded data removed]",
      "text/plain": [
       "<Figure size 432x288 with 1 Axes>"
      ]
     },
     "metadata": {
      "needs_background": "light"
     },
     "output_type": "display_data"
    }
   ],
   "source": [
    "####SIGNATURE CURVE####\n",
    "###Buckling halfwavelenth plot from a signature analysis\n",
    "plt.semilogx(lengths, signature, 'k', linewidth= 2)\n",
    "plt.xlim((1, 1000))\n",
    "maximum = np.max(signature)\n",
    "median = np.median(signature)\n",
    "ubound = np.min([maximum, 3*median])\n",
    "plt.ylim((0, ubound))\n",
    "plt.xlabel('half-wavelength (in)')\n",
    "plt.ylabel('Pcr/Py')\n",
    "plt.show()\n",
    "clas = 0\n",
    "minopt = 1\n",
    "logopt = 1\n",
    "clasopt = 0\n",
    "xmin = np.min(lengths)*10/11\n",
    "xmax = np.max(lengths)*11/10\n",
    "ymin = 0\n",
    "curve_sign = np.zeros((len(lengths),2))\n",
    "curve = np.zeros(((len(lengths),n_eigs,2)))\n",
    "for j in range(len(lengths)):\n",
    "    for i in range(n_eigs):\n",
    "        curve[j, i, 0] = lengths[j]\n",
    "        curve[j, i, 1] = curves[j, i]\n",
    "for j in range(len(lengths)):\n",
    "    curve_sign[j, 0] = lengths[j]\n",
    "    curve_sign[j, 1] = curves[j, modeindex-1]\n",
    "ymax = np.min([np.max(curve_sign[:, 1]), 3*np.median(curve_sign[:, 1])])\n",
    "modedisplay = [1]\n",
    "fileindex = 1\n",
    "picpoint = [lengths[length_index-1], curves[length_index-1, modeindex-1]]\n",
    "#CALL THE CURVE\n",
    "#thecurve3.thecurve3(curve, clas, fileddisplay, minopt, logopt, clasopt, xmin, xmax, ymin, ymax, modedisplay, fileindex, modeindex, picpoint)\n",
    "#plt.show()"
   ]
  }
 ],
 "metadata": {
  "celltoolbar": "Raw Cell Format",
  "kernelspec": {
   "display_name": "Python 3",
   "language": "python",
   "name": "python3"
  },
  "language_info": {
   "codemirror_mode": {
    "name": "ipython",
    "version": 3
   },
   "file_extension": ".py",
   "mimetype": "text/x-python",
   "name": "python",
   "nbconvert_exporter": "python",
   "pygments_lexer": "ipython3",
   "version": "3.7.4"
  }
 },
 "nbformat": 4,
 "nbformat_minor": 2
}
