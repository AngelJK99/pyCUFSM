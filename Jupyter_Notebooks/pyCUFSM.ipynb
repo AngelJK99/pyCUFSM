{
 "cells": [
  {
   "cell_type": "markdown",
   "metadata": {},
   "source": [
    "<hr/>\n",
    "\n",
    "# CUFSM\n",
    "\n",
    "- For general signature curve analysis\n",
    "\n",
    "<hr/>"
   ]
  },
  {
   "cell_type": "markdown",
   "metadata": {},
   "source": [
    "[Open In Colab](https://colab.research.google.com/github/joelbenjohn/pyCUFSM/blob/master/Jupyter_Notebooks/pyCUFSM.ipynb)"
   ]
  },
  {
   "cell_type": "markdown",
   "metadata": {},
   "source": [
    "## Clone Github and Import packages"
   ]
  },
  {
   "cell_type": "code",
   "execution_count": null,
   "metadata": {},
   "outputs": [],
   "source": [
    "!rm -rf /content/pyCUFSM\n",
    "!git clone https://github.com/ClearCals/pyCUFSM\n",
    "import sys\n",
    "sys.path.insert(1, '/content/pyCUFSM')\n",
    "import numpy as np\n",
    "import matplotlib.pyplot as plt\n",
    "from pycufsm.fsm import strip\n",
    "from pycufsm.preprocess import stress_gen\n",
    "from pycufsm.preprocess import yieldMP\n",
    "from pycufsm.preprocess import doubler\n",
    "import pycufsm.plotters as plotters\n",
    "import cutwp_prop2"
   ]
  },
  {
   "cell_type": "markdown",
   "metadata": {},
   "source": [
    "## Pre Processor\n",
    "### Cross Section"
   ]
  },
  {
   "cell_type": "code",
   "execution_count": 7,
   "metadata": {
    "tags": []
   },
   "outputs": [
    {
     "ename": "NameError",
     "evalue": "name 'doubler' is not defined",
     "output_type": "error",
     "traceback": [
      "\u001b[1;31m---------------------------------------------------------------------------\u001b[0m",
      "\u001b[1;31mNameError\u001b[0m                                 Traceback (most recent call last)",
      "\u001b[1;32m<ipython-input-7-92d9a06a9e57>\u001b[0m in \u001b[0;36m<module>\u001b[1;34m\u001b[0m\n\u001b[0;32m     37\u001b[0m \u001b[0mconstraints\u001b[0m \u001b[1;33m=\u001b[0m \u001b[1;33m[\u001b[0m\u001b[1;33m]\u001b[0m\u001b[1;33m\u001b[0m\u001b[1;33m\u001b[0m\u001b[0m\n\u001b[0;32m     38\u001b[0m \u001b[1;31m#Doubler\u001b[0m\u001b[1;33m\u001b[0m\u001b[1;33m\u001b[0m\u001b[1;33m\u001b[0m\u001b[0m\n\u001b[1;32m---> 39\u001b[1;33m \u001b[0mnodes\u001b[0m\u001b[1;33m,\u001b[0m \u001b[0melements\u001b[0m \u001b[1;33m=\u001b[0m \u001b[0mdoubler\u001b[0m\u001b[1;33m(\u001b[0m\u001b[0mnodes\u001b[0m\u001b[1;33m,\u001b[0m \u001b[0melements\u001b[0m\u001b[1;33m)\u001b[0m\u001b[1;33m\u001b[0m\u001b[1;33m\u001b[0m\u001b[0m\n\u001b[0m\u001b[0;32m     40\u001b[0m \u001b[0mflag\u001b[0m \u001b[1;33m=\u001b[0m \u001b[0mnp\u001b[0m\u001b[1;33m.\u001b[0m\u001b[0marray\u001b[0m\u001b[1;33m(\u001b[0m\u001b[1;33m[\u001b[0m\u001b[1;36m1\u001b[0m\u001b[1;33m,\u001b[0m \u001b[1;36m0\u001b[0m\u001b[1;33m,\u001b[0m \u001b[1;36m0\u001b[0m\u001b[1;33m,\u001b[0m \u001b[1;36m0\u001b[0m\u001b[1;33m,\u001b[0m \u001b[1;36m1\u001b[0m\u001b[1;33m,\u001b[0m \u001b[1;36m0\u001b[0m\u001b[1;33m,\u001b[0m \u001b[1;36m0\u001b[0m\u001b[1;33m,\u001b[0m \u001b[1;36m0\u001b[0m\u001b[1;33m,\u001b[0m \u001b[1;36m0\u001b[0m\u001b[1;33m,\u001b[0m \u001b[1;36m0\u001b[0m\u001b[1;33m]\u001b[0m\u001b[1;33m)\u001b[0m\u001b[1;33m\u001b[0m\u001b[1;33m\u001b[0m\u001b[0m\n\u001b[0;32m     41\u001b[0m \u001b[0mplotters\u001b[0m\u001b[1;33m.\u001b[0m\u001b[0mcrossect\u001b[0m\u001b[1;33m(\u001b[0m\u001b[0mnodes_p\u001b[0m\u001b[1;33m,\u001b[0m \u001b[0melements\u001b[0m\u001b[1;33m,\u001b[0m \u001b[0msprings\u001b[0m\u001b[1;33m,\u001b[0m \u001b[0mconstraints\u001b[0m\u001b[1;33m,\u001b[0m\u001b[0mflag\u001b[0m\u001b[1;33m)\u001b[0m\u001b[1;33m\u001b[0m\u001b[1;33m\u001b[0m\u001b[0m\n",
      "\u001b[1;31mNameError\u001b[0m: name 'doubler' is not defined"
     ]
    }
   ],
   "source": [
    "# Define an isotropic material\n",
    "#props = [material#, Ex, Ey, vx, vy, G]\n",
    "props = np.array([\n",
    "    [0, 29500, 29500, 0.3, 0.3, 29500 / (2 * (1 + 0.3))]\n",
    "])\n",
    "\n",
    "# Nodal location units are inches\n",
    "#nodes = [node#, x, y, xdof, zdof, ydof, qdof, stress]\n",
    "nodes = np.array([\n",
    "    [0, 2.5, 0.773, 1, 1, 1, 1, 0],\n",
    "    [1, 2.5, 0, 1, 1, 1, 1, 0],\n",
    "    [2, 1.25, 0, 1, 1, 1, 1, 0],\n",
    "    [3, 0, 0, 1, 1, 1, 1, 0],\n",
    "    [4, 0, 3, 1, 1, 1, 1, 0],\n",
    "    [5, 0, 6, 1, 1, 1, 1, 0],\n",
    "    [6, 0, 9, 1, 1, 1, 1, 0],\n",
    "    [7, 1.25, 9, 1, 1, 1, 1, 0],\n",
    "    [8, 2.5, 9, 1, 1, 1, 1, 0],\n",
    "    [9, 2.5, 8.227, 1, 1, 1, 1, 0]\n",
    "])\n",
    "#elements = [elem#, nodei, nodej, thickness, material#]\n",
    "elements = np.array([\n",
    "    [0, 0, 1, 0.059, 0],\n",
    "    [1, 1, 2, 0.059, 0],\n",
    "    [2, 2, 3, 0.059, 0],\n",
    "    [3, 3, 4, 0.059, 0],\n",
    "    [4, 4, 5, 0.059, 0],\n",
    "    [5, 5, 6, 0.059, 0],\n",
    "    [6, 6, 7, 0.059, 0],\n",
    "    [7, 7, 8, 0.059, 0],\n",
    "    [8, 8, 9, 0.059, 0]\n",
    "])\n",
    "\n",
    "# Springs = []\n",
    "springs = []\n",
    "\n",
    "#Constraints = []\n",
    "constraints = []\n",
    "\n",
    "#Doubler\n",
    "nodes, elements = doubler(nodes, elements)\n",
    "flag = np.array([1, 0, 0, 0, 1, 0, 0, 0, 0, 0])\n",
    "plotters.crossect(nodes, elements, springs, constraints,flag)\n",
    "plt.show()"
   ]
  },
  {
   "cell_type": "markdown",
   "metadata": {},
   "source": [
    "### Lengths\n",
    "   >- To generate $n$ lengths equally spaced between $a$ and $b$ use **lengths = np.linspace(a, b, n)**\n",
    "   >- To generate $n$ lengths log spaced between $10^a$ and $10^b$ use **lengths = np.linspace(a, b, n)**"
   ]
  },
  {
   "cell_type": "code",
   "execution_count": 6,
   "metadata": {},
   "outputs": [],
   "source": [
    "# These lengths will generally provide sufficient accuracy for local, distortional, and global buckling modes\n",
    "lengths = np.array([\n",
    "    10, 20, 30, 40, 50, 60, 70, 80, 90, 100, 110, 120, 130, 140, 150, 160,\n",
    "    170, 180, 190, 200, 250, 300, 350, 400, 450, 500, 600, 700, 800, 900,\n",
    "    1000, 1100, 1200, 1300, 1400, 1500, 2000, 2500, 3000, 3500, 4000, 4500,\n",
    "    5000, 6000, 7000, 8000, 9000, 10000\n",
    "])"
   ]
  },
  {
   "cell_type": "markdown",
   "metadata": {},
   "source": [
    "### Boundary Condition Selection\n",
    "\n",
    "| Boundary Condition | Key |\n",
    "| :--- | ----------- |\n",
    "| Simple-Simple | 'S-S' |\n",
    "| Clamped-Clamped |'C-C' |\n",
    "| Simple-Clamped |'S-C' |\n",
    "| Clamped-Free |'C-F' |\n",
    "| Clamped-Guided |'C-G' |"
   ]
  },
  {
   "cell_type": "code",
   "execution_count": null,
   "metadata": {},
   "outputs": [],
   "source": [
    "# Boundary Condition\n",
    "b_c = 'S-S'\n",
    "\n",
    "# For signature curve analysis, only a single array of ones makes sense here\n",
    "m_all = np.ones((len(lengths), 1))\n",
    "\n",
    "# Number of eigenvalues\n",
    "n_eigs = 10"
   ]
  },
  {
   "cell_type": "markdown",
   "metadata": {},
   "source": [
    "### Applied Stress Generator"
   ]
  },
  {
   "cell_type": "code",
   "execution_count": null,
   "metadata": {},
   "outputs": [],
   "source": [
    "# Calculate Section Properties\n",
    "sect_props = cutwp_prop2.cutwp_prop2(nodes[:, 1:3], elements[:, 1:4])\n",
    "\n",
    "# Yield Strength\n",
    "fy = 50\n",
    "\n",
    "# To do a restrained bending calculation\n",
    "Restrained = False\n",
    "\n",
    "# Generate the yield strength\n",
    "Fyield = yieldMP(nodes, fy, sect_props, restrained)\n",
    "# Generate stress points\n",
    "nodes_p = stress_gen(nodes=nodes,\n",
    "                     forces={\n",
    "                         'P': Fyield['P']*0,\n",
    "                         'Mxx': Fyield['Mxx']*1,\n",
    "                         'Myy': Fyield['Myy']*0,\n",
    "                         'M11': Fyield['M11']*0,\n",
    "                         'M22': Fyield['M22']*0\n",
    "                     },\n",
    "                     sect_props=sect_props,\n",
    "                     restrained=restrained,\n",
    "                    )\n",
    "\n",
    "##CALL CROSS SECTION\n",
    "#Flag = {node, elem, mat, stress, stresspic, coord, constraints, springs, origin, propaxis}\n",
    "flag = np.array([1, 0, 0, 0, 1, 0, 0, 0, 0, 0])\n",
    "plotters.crossect(nodes_p, elements, springs, constraints,flag)\n",
    "plt.show()"
   ]
  },
  {
   "cell_type": "markdown",
   "metadata": {},
   "source": [
    "# Analysis"
   ]
  },
  {
   "cell_type": "code",
   "execution_count": 8,
   "metadata": {},
   "outputs": [],
   "source": [
    "# Values here correspond to signature curve basis and orthogonal based upon geometry\n",
    "gbt_con = {\n",
    "    'glob': [0],\n",
    "    'dist': [0],\n",
    "    'local': [0],\n",
    "    'other': [0],\n",
    "    'o_space': 1,\n",
    "    'couple': 1,\n",
    "    'orth': 2,\n",
    "    'norm': 0,\n",
    "}\n",
    "# Perform the Finite Strip Method analysis\n",
    "signature, curve, shapes = strip(props=props,\n",
    "                                 nodes=nodes_p,\n",
    "                                 elements=elements,\n",
    "                                 lengths=lengths,\n",
    "                                 springs=springs,\n",
    "                                 constraints=constraints,\n",
    "                                 gbt_con=gbt_con,\n",
    "                                 b_c=b_c,\n",
    "                                 m_all=m_all,\n",
    "                                 n_eigs=n_eigs,\n",
    "                                 sect_props=sect_props)\n",
    "signature = np.array(signature)\n",
    "curves = np.array(curve)\n",
    "shapes = np.array(shapes)\n",
    "curve = np.zeros(((len(lengths),n_eigs,2)))\n",
    "for j in range(len(lengths)):\n",
    "    for i in range(n_eigs):\n",
    "        curve[j, i, 0] = lengths[j]\n",
    "        curve[j, i, 1] = curves[j, i]\n",
    "fileindex = 1\n",
    "fileddisplay = [1]\n",
    "clas = 0\n",
    "clasopt = 0"
   ]
  },
  {
   "cell_type": "markdown",
   "metadata": {},
   "source": [
    "# Post Processing\n",
    "## Signature Curve"
   ]
  },
  {
   "cell_type": "code",
   "execution_count": null,
   "metadata": {},
   "outputs": [],
   "source": [
    "####SIGNATURE CURVE####\n",
    "###Buckling halfwavelenth plot from a signature analysis\n",
    "minopt = 1\n",
    "logopt = 1\n",
    "\n",
    "#plot limits\n",
    "xmin = np.min(lengths)*10/11\n",
    "xmax = np.max(lengths)*11/10\n",
    "ymin = 0\n",
    "ymax = np.min([np.max(signature), 3*np.median(signature)])\n",
    "\n",
    "#Modes to display\n",
    "modedisplay = [1]\n",
    "\n",
    "#Interested point\n",
    "modeindex = 1\n",
    "length_index = 40\n",
    "picpoint = [lengths[length_index-1], curves[length_index-1, modeindex-1]]\n",
    "\n",
    "#CALL THE CURVE\n",
    "plotters.thecurve3(curve, clas, fileddisplay, minopt, logopt, clasopt, xmin, xmax, ymin, ymax, modedisplay, fileindex, modeindex, picpoint)"
   ]
  },
  {
   "cell_type": "markdown",
   "metadata": {},
   "source": [
    "## Displaced Shape"
   ]
  },
  {
   "cell_type": "code",
   "execution_count": 9,
   "metadata": {},
   "outputs": [
    {
     "data": {
      "image/png": "[encoded data removed]",
      "text/plain": [
       "<Figure size 432x288 with 1 Axes>"
      ]
     },
     "metadata": {
      "needs_background": "light"
     },
     "output_type": "display_data"
    }
   ],
   "source": [
    "######POST PROCESSING#########\n",
    "modeindex = 1\n",
    "length_index = 20\n",
    "scale = 5\n",
    "x = plotters.dispshap(1, nodes, elements, shapes[length_index-1, :, modeindex-1], scale, springs, [1], b_c , 1/2)"
   ]
  }
 ],
 "metadata": {
  "celltoolbar": "Raw Cell Format",
  "kernelspec": {
   "display_name": "Python 3",
   "language": "python",
   "name": "python3"
  },
  "language_info": {
   "codemirror_mode": {
    "name": "ipython",
    "version": 3
   },
   "file_extension": ".py",
   "mimetype": "text/x-python",
   "name": "python",
   "nbconvert_exporter": "python",
   "pygments_lexer": "ipython3",
   "version": "3.7.4"
  }
 },
 "nbformat": 4,
 "nbformat_minor": 2
}
