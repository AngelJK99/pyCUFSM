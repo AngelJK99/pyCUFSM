{
 "cells": [
  {
   "cell_type": "markdown",
   "metadata": {},
   "source": [
    "[Open In Colab](https://colab.research.google.com/github/joelbenjohn/pyCUFSM/blob/master/pyCUFSM_load_mat.ipynb)"
   ]
  },
  {
   "cell_type": "code",
   "execution_count": null,
   "metadata": {},
   "outputs": [],
   "source": [
    "from google.colab import files\n",
    "def getLocalFiles():\n",
    "    _files = files.upload()\n",
    "    if len(_files) >0:\n",
    "       for k,v in _files.items():\n",
    "         open(k,'wb').write(v)\n",
    "getLocalFiles()"
   ]
  },
  {
   "cell_type": "code",
   "execution_count": 73,
   "metadata": {
    "scrolled": true
   },
   "outputs": [
    {
     "name": "stdout",
     "output_type": "stream",
     "text": [
      "<class 'dict'>\n"
     ]
    },
    {
     "ename": "UnicodeDecodeError",
     "evalue": "'utf-32-le' codec can't decode bytes in position 0-3: code point not in range(0x110000)",
     "output_type": "error",
     "traceback": [
      "\u001b[1;31m---------------------------------------------------------------------------\u001b[0m",
      "\u001b[1;31mUnicodeDecodeError\u001b[0m                        Traceback (most recent call last)",
      "\u001b[1;32m<ipython-input-73-172332e886db>\u001b[0m in \u001b[0;36m<module>\u001b[1;34m\u001b[0m\n\u001b[0;32m      9\u001b[0m \u001b[1;32mimport\u001b[0m \u001b[0mast\u001b[0m\u001b[1;33m\u001b[0m\u001b[1;33m\u001b[0m\u001b[0m\n\u001b[0;32m     10\u001b[0m \u001b[0mbyte_str\u001b[0m \u001b[1;33m=\u001b[0m \u001b[0mMat\u001b[0m\u001b[1;33m.\u001b[0m\u001b[0mvalue\u001b[0m\u001b[1;33m[\u001b[0m\u001b[1;34m'cnolip_Mx.mat'\u001b[0m\u001b[1;33m]\u001b[0m\u001b[1;33m[\u001b[0m\u001b[1;34m\"content\"\u001b[0m\u001b[1;33m]\u001b[0m\u001b[1;33m\u001b[0m\u001b[1;33m\u001b[0m\u001b[0m\n\u001b[1;32m---> 11\u001b[1;33m \u001b[0mdict_str\u001b[0m \u001b[1;33m=\u001b[0m \u001b[0mbyte_str\u001b[0m\u001b[1;33m.\u001b[0m\u001b[0mdecode\u001b[0m\u001b[1;33m(\u001b[0m\u001b[1;34m\"UTF-32\"\u001b[0m\u001b[1;33m)\u001b[0m\u001b[1;33m\u001b[0m\u001b[1;33m\u001b[0m\u001b[0m\n\u001b[0m\u001b[0;32m     12\u001b[0m \u001b[0mmydata\u001b[0m \u001b[1;33m=\u001b[0m \u001b[0mast\u001b[0m\u001b[1;33m.\u001b[0m\u001b[0mliteral_eval\u001b[0m\u001b[1;33m(\u001b[0m\u001b[0mdict_str\u001b[0m\u001b[1;33m)\u001b[0m\u001b[1;33m\u001b[0m\u001b[1;33m\u001b[0m\u001b[0m\n\u001b[0;32m     13\u001b[0m \u001b[1;33m\u001b[0m\u001b[0m\n",
      "\u001b[1;31mUnicodeDecodeError\u001b[0m: 'utf-32-le' codec can't decode bytes in position 0-3: code point not in range(0x110000)"
     ]
    }
   ],
   "source": [
    "from scipy import io\n",
    "import pycufsm.helpers as helpers\n",
    "file = io.loadmat('cnolip_Mx.mat')\n",
    "nodes, elements, lengths, props, constraints, springs = helpers.load_mat(file)"
   ]
  },
  {
   "cell_type": "code",
   "execution_count": null,
   "metadata": {},
   "outputs": [],
   "source": [
    "import numpy as np\n",
    "import matplotlib.pyplot as plt\n",
    "from pycufsm.fsm import strip\n",
    "from pycufsm.preprocess import stress_gen\n",
    "from pycufsm.preprocess import yieldMP\n",
    "from pycufsm.preprocess import doubler\n",
    "import pycufsm.plotters\n",
    "\n",
    "A, xc, yc, Ix, Iy, Ixy, theta, I1, I2, J, xs, ys, Cw, B1, B2, wn = cutwp_prop2.cutwp_prop2(nodes[:, 1:3], elements[:, 1:4])\n",
    "# Values here correspond to signature curve basis and orthogonal based upon geometry\n",
    "gbt_con = {\n",
    "    'glob': [0],\n",
    "    'dist': [0],\n",
    "    'local': [0],\n",
    "    'other': [0],\n",
    "    'o_space': 1,\n",
    "    'couple': 1,\n",
    "    'orth': 2,\n",
    "    'norm': 0,\n",
    "}\n",
    "# Simply-supported boundary conditions\n",
    "b_c = 'S-S'\n",
    "\n",
    "# For signature curve analysis, only a single array of ones makes sense here\n",
    "m_all = np.ones((len(lengths), 1))  \n",
    "\n",
    "# Solve for 10 eigenvalues\n",
    "n_eigs = 10\n",
    "#Flag = {node, elem, mat, stress, stresspic, coord, constraints, springs, origin, propaxis}\n",
    "flag = np.array([0, 0, 0, 0, 1, 1, 1, 0, 0, 0])\n",
    "pycufsm.plotters.crossect(nodes, elements, springs, constraints, flag)\n",
    "# Set the section properties for this simple section\n",
    "# Normally, these might be calculated by an external package\n",
    "sect_props = {\n",
    "    'cx': xc,\n",
    "    'cy': yc,\n",
    "    'x0': xs,\n",
    "    'y0': ys,\n",
    "    'phi': theta,\n",
    "    'A': A,\n",
    "    'Ixx': Ix,\n",
    "    'Ixy': Ixy,\n",
    "    'Iyy': Iy,\n",
    "    'I11': I1,\n",
    "    'I22': I2\n",
    "}\n",
    "# Yield Strength\n",
    "fy = fy[0]\n",
    "unsymmetric = 0 #i.e. do a restrained bending calculation\n",
    "# Generate the stress points assuming 500 MPa yield and X-axis bending\n",
    "Fyield = yieldMP(nodes, fy, sect_props, unsymmetric)\n",
    "nodes_p = stress_gen(nodes=nodes,\n",
    "                    forces={\n",
    "                        'P': Fyield['P']*0,\n",
    "                        'Mxx': Fyield['Mxx']*1,\n",
    "                        'Myy': Fyield['Myy']*0,\n",
    "                        'M11': Fyield['M11']*0,\n",
    "                        'M22': Fyield['M22']*0\n",
    "                    },\n",
    "                    sect_props=sect_props,\n",
    "                    unsymm = unsymmetric,\n",
    "                    fy =fy\n",
    "                    )\n"
   ]
  },
  {
   "cell_type": "code",
   "execution_count": null,
   "metadata": {},
   "outputs": [],
   "source": [
    "# Perform the Finite Strip Method analysis\n",
    "signature, curve, shapes = strip(props=props,\n",
    "                                 nodes=nodes_p,\n",
    "                                 elements=elements,\n",
    "                                 lengths=lengths,\n",
    "                                 springs=springs,\n",
    "                                 constraints=constraints,\n",
    "                                 gbt_con=gbt_con,\n",
    "                                 b_c=b_c,\n",
    "                                 m_all=m_all,\n",
    "                                 n_eigs=n_eigs,\n",
    "                                 sect_props=sect_props)\n",
    "lengths = np.array(lengths)\n",
    "signature = np.array(signature)\n",
    "curves = np.array(curve)\n",
    "node=np.array(nodes)\n",
    "shapes = np.array(shapes)\n",
    "element = np.array(elements)"
   ]
  },
  {
   "cell_type": "code",
   "execution_count": null,
   "metadata": {},
   "outputs": [],
   "source": [
    "######POST PROCESSING#########\n",
    "#Choose mode number\n",
    "modeindex = 1\n",
    "length_index = 20\n",
    "fileddisplay = [1]\n",
    "######DISPLACED SHAPE####\n",
    "undef = 1\n",
    "scalem = 5\n",
    "m_a = [1]\n",
    "SurfPos = 1/2\n",
    "mode = shapes[length_index-1, :, modeindex-1]\n",
    "####CALL DISPLACED SHAPE\n",
    "x = pycufsm.plotters.dispshap(undef, node, element, mode, scalem, springs, m_a, b_c ,SurfPos)"
   ]
  },
  {
   "cell_type": "code",
   "execution_count": null,
   "metadata": {},
   "outputs": [],
   "source": [
    "####SIGNATURE CURVE####\n",
    "###Buckling halfwavelenth plot from a signature analysis\n",
    "plt.semilogx(lengths, signature, 'k', linewidth= 2)\n",
    "plt.xlim((1, 1000))\n",
    "maximum = np.max(signature)\n",
    "median = np.median(signature)\n",
    "ubound = np.min([maximum, 3*median])\n",
    "plt.ylim((0, ubound))\n",
    "plt.xlabel('half-wavelength (in)')\n",
    "plt.ylabel('Pcr/Py')\n",
    "plt.show()"
   ]
  }
 ],
 "metadata": {
  "kernelspec": {
   "display_name": "Python 3",
   "language": "python",
   "name": "python3"
  },
  "language_info": {
   "codemirror_mode": {
    "name": "ipython",
    "version": 3
   },
   "file_extension": ".py",
   "mimetype": "text/x-python",
   "name": "python",
   "nbconvert_exporter": "python",
   "pygments_lexer": "ipython3",
   "version": "3.7.4"
  }
 },
 "nbformat": 4,
 "nbformat_minor": 2
}
